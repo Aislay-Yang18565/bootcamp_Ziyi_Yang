{
 "cells": [
  {
   "cell_type": "markdown",
   "id": "ec00c786-3517-41d0-876a-8112211dc50e",
   "metadata": {},
   "source": [
    "# STEP 1 NumPy array operations:\n",
    "## Create arrays and compare the performance differences between loop and vectorized operations"
   ]
  },
  {
   "cell_type": "code",
   "execution_count": 4,
   "id": "48803a81-33a2-4da3-820e-cc15f9910e53",
   "metadata": {},
   "outputs": [
    {
     "name": "stdout",
     "output_type": "stream",
     "text": [
      "Loop time consumption: 0.05253 seconds\n",
      "Vectorization time consumption: 0.00400 seconds\n"
     ]
    }
   ],
   "source": [
    "import numpy as np\n",
    "\n",
    "# Create an array from 0 to 9\n",
    "arr = np.array([0, 1, 2, 3, 4, 5, 6, 7, 8, 9])\n",
    "\n",
    "# Create a random array\n",
    "random_arr = np.random.rand(10)  # 10 random numbers between 0 and 1\n",
    "\n",
    "# Add 5 to each element\n",
    "arr_plus_5 = arr + 5\n",
    "\n",
    "# Square each element\n",
    "arr_squared = arr ** 2\n",
    "\n",
    "# Multiplication of two array elements\n",
    "arr1 = np.array([1, 2, 3])\n",
    "arr2 = np.array([4, 5, 6])\n",
    "product = arr1 * arr2  # result [4, 10, 18]\n",
    "\n",
    "import time\n",
    "\n",
    "# Use Python Loops\n",
    "start = time.time()\n",
    "result_loop = [x + 5 for x in range(1000000)]\n",
    "loop_time = time.time() - start\n",
    "\n",
    "# Use vectorization operations\n",
    "start = time.time()\n",
    "arr = np.arange(1000000)\n",
    "result_vec = arr + 5\n",
    "vec_time = time.time() - start\n",
    "\n",
    "print(f\"Loop time consumption: {loop_time:.5f} seconds\")\n",
    "print(f\"Vectorization time consumption: {vec_time:.5f} seconds\")"
   ]
  },
  {
   "cell_type": "markdown",
   "id": "9cade0fa-a099-467d-9b82-41d34905fc2d",
   "metadata": {},
   "source": [
    "# STEP 2 Load the dataset: \n",
    "## Load the CSV file and initially check the data"
   ]
  },
  {
   "cell_type": "code",
   "execution_count": 1,
   "id": "1fac9883-89d0-4559-8ae8-3f76ba1bd196",
   "metadata": {},
   "outputs": [
    {
     "name": "stdout",
     "output_type": "stream",
     "text": [
      "<class 'pandas.core.frame.DataFrame'>\n",
      "RangeIndex: 10 entries, 0 to 9\n",
      "Data columns (total 3 columns):\n",
      " #   Column    Non-Null Count  Dtype \n",
      "---  ------    --------------  ----- \n",
      " 0   category  10 non-null     object\n",
      " 1   value     10 non-null     int64 \n",
      " 2   date      10 non-null     object\n",
      "dtypes: int64(1), object(2)\n",
      "memory usage: 372.0+ bytes\n"
     ]
    },
    {
     "data": {
      "text/plain": [
       "category    0\n",
       "value       0\n",
       "date        0\n",
       "dtype: int64"
      ]
     },
     "execution_count": 1,
     "metadata": {},
     "output_type": "execute_result"
    }
   ],
   "source": [
    "import pandas as pd\n",
    "\n",
    "# Load the CSV file (assuming the file is in the data directory at the same level as the notebook)\n",
    "df = pd.read_csv('C:/Users/Aislay/bootcamp_Ziyi_Yang/homework/stage03_python-fundamentals/data/starter_data.csv')\n",
    "\n",
    "# View basic data information\n",
    "df.info()\n",
    "\n",
    "# Display the first 5 lines\n",
    "df.head()\n",
    "\n",
    "# Check for Missing Values\n",
    "df.isnull().sum()"
   ]
  },
  {
   "cell_type": "markdown",
   "id": "4ca594fa-8199-484f-990c-313db86ecf91",
   "metadata": {},
   "source": [
    "# STEP 3 Computational statistics: \n",
    "## Calculate descriptive statistics and group aggregation"
   ]
  },
  {
   "cell_type": "code",
   "execution_count": 2,
   "id": "89acb7d4-85b8-409f-aa42-0212130c3b11",
   "metadata": {},
   "outputs": [
    {
     "name": "stdout",
     "output_type": "stream",
     "text": [
      "=== Overall statistics ===\n",
      "            value category        date\n",
      "count   10.000000       10          10\n",
      "mean    17.600000      NaN         NaN\n",
      "std      7.381659      NaN         NaN\n",
      "min     10.000000      NaN         NaN\n",
      "25%     12.250000      NaN         NaN\n",
      "50%     14.500000      NaN         NaN\n",
      "75%     23.250000      NaN         NaN\n",
      "max     30.000000      NaN         NaN\n",
      "unique        NaN        3          10\n",
      "top           NaN        A  2025-08-01\n",
      "freq          NaN        4           1\n",
      "\n",
      "=== Group and statistically analyze by category ===\n",
      "              value                               date            \n",
      "               mean median       std count         min         max\n",
      "category                                                          \n",
      "A         11.500000   11.5  1.290994     4  2025-08-01  2025-08-10\n",
      "B         15.666667   15.0  2.081666     3  2025-08-02  2025-08-08\n",
      "C         27.666667   28.0  2.516611     3  2025-08-05  2025-08-09\n"
     ]
    }
   ],
   "source": [
    "# Numerical Column Statistics\n",
    "def get_summary_stats(df):\n",
    "    \"\"\"Obtain the statistical summary of the data frame\"\"\"\n",
    "    numeric_stats = df.describe(include='number')\n",
    "    object_stats = df.describe(include='object')\n",
    "    return pd.concat([numeric_stats, object_stats], axis=1)\n",
    "\n",
    "stats = get_summary_stats(df)\n",
    "print(\"=== Overall statistics ===\")\n",
    "print(stats)\n",
    "\n",
    "# Group Statistics\n",
    "if 'category' in df.columns:\n",
    "    print(\"\\n=== Group and statistically analyze by category ===\")\n",
    "    grouped_stats = df.groupby('category').agg({\n",
    "        'value': ['mean', 'median', 'std', 'count'],\n",
    "        'date': ['min', 'max']\n",
    "    })\n",
    "    print(grouped_stats)"
   ]
  },
  {
   "cell_type": "markdown",
   "id": "1136c2e3-6f98-4095-b734-23903b83b2e9",
   "metadata": {},
   "source": [
    "# STEP 4 Save numerical result: \n",
    "## Save the statistical results and visual charts"
   ]
  },
  {
   "cell_type": "code",
   "execution_count": 3,
   "id": "c0a3b5b5-4eec-40b5-b73d-2098a1517b57",
   "metadata": {},
   "outputs": [
    {
     "name": "stdout",
     "output_type": "stream",
     "text": [
      "The statistical results have been saved to: data\\processed\\summary.csv\n",
      "\n",
      "Save content preview:\n",
      "  metric  value category  date  value_mean  value_median  value_std  \\\n",
      "0  count   10.0     None  None         NaN           NaN        NaN   \n",
      "1   mean   17.6     None  None         NaN           NaN        NaN   \n",
      "2    std   7.38     None  None         NaN           NaN        NaN   \n",
      "3    min   10.0     None  None         NaN           NaN        NaN   \n",
      "4    25%  12.25     None  None         NaN           NaN        NaN   \n",
      "5    50%   14.5     None  None         NaN           NaN        NaN   \n",
      "6    75%  23.25     None  None         NaN           NaN        NaN   \n",
      "7    max   30.0     None  None         NaN           NaN        NaN   \n",
      "\n",
      "   value_count date_min date_max  \n",
      "0          NaN      NaN      NaN  \n",
      "1          NaN      NaN      NaN  \n",
      "2          NaN      NaN      NaN  \n",
      "3          NaN      NaN      NaN  \n",
      "4          NaN      NaN      NaN  \n",
      "5          NaN      NaN      NaN  \n",
      "6          NaN      NaN      NaN  \n",
      "7          NaN      NaN      NaN  \n",
      "the plot has been saved to: data\\processed\\basic_plots.png\n"
     ]
    }
   ],
   "source": [
    "import pandas as pd\n",
    "import matplotlib.pyplot as plt\n",
    "from pathlib import Path\n",
    "import os\n",
    "\n",
    "import pandas as pd\n",
    "from pathlib import Path\n",
    "\n",
    "def save_stats_to_csv(stats, grouped_stats, filename=\"data/processed/summary.csv\"):\n",
    "    \"\"\"\n",
    "    Merge the statistical results and save them as a CSV file\n",
    "    \n",
    "    Parameter\n",
    "        Overall statistics generated by stats: describe()\n",
    "        grouped_stats: Grouping statistics generated by groupby()\n",
    "        filename: Output file path\n",
    "    \"\"\"\n",
    "    try:\n",
    "        # Create an output directory\n",
    "        output_path = Path(filename)\n",
    "        output_path.parent.mkdir(parents=True, exist_ok=True)\n",
    "        \n",
    "        # Convert Group Statistics Format (Multi-level Index to Single-level)\n",
    "        grouped_flat = grouped_stats.copy()\n",
    "        grouped_flat.columns = ['_'.join(col).strip() for col in grouped_flat.columns.values]\n",
    "        grouped_flat = grouped_flat.reset_index()\n",
    "        \n",
    "        # Merge the statistical results\n",
    "        combined_stats = pd.concat([\n",
    "            stats.reset_index().rename(columns={'index': 'metric'}),\n",
    "            pd.DataFrame([['---', '---', '---']], columns=['metric', 'value', 'category']), \n",
    "            grouped_flat\n",
    "        ])\n",
    "        \n",
    "        # Save to CSV\n",
    "        combined_stats.to_csv(output_path, index=False)\n",
    "        print(f\"The statistical results have been saved to: {output_path}\")\n",
    "        \n",
    "        # Print the preview of the saved content\n",
    "        print(\"\\nSave content preview:\")\n",
    "        print(combined_stats.head(8))  \n",
    "        \n",
    "    except Exception as e:\n",
    "        print(f\"Save failed: {str(e)}\")\n",
    "\n",
    "# use sample -- -- -- -- -- -- -- - - - - - - - - - - - - - - - - - - - - - - - - - - - - - - - - - - - - - - - - - - -\n",
    "# Suppose you already have your statistical results \n",
    "stats = pd.DataFrame({\n",
    "    'value': [10.0, 17.6, 7.38, 10.0, 12.25, 14.5, 23.25, 30.0, None, None],\n",
    "    'category': [None]*10,\n",
    "    'date': [None]*10\n",
    "}, index=['count', 'mean', 'std', 'min', '25%', '50%', '75%', 'max', 'unique', 'top'])\n",
    "\n",
    "grouped_stats = pd.DataFrame({\n",
    "    ('value', 'mean'): [11.5, 15.67, 27.67],\n",
    "    ('value', 'median'): [11.5, 15.0, 28.0],\n",
    "    ('value', 'std'): [1.29, 2.08, 2.52],\n",
    "    ('value', 'count'): [4, 3, 3],\n",
    "    ('date', 'min'): ['2025-08-01', '2025-08-02', '2025-08-05'],\n",
    "    ('date', 'max'): ['2025-08-10', '2025-08-08', '2025-08-09']\n",
    "}, index=pd.Index(['A', 'B', 'C'], name='category'))\n",
    "\n",
    "# Call the save function\n",
    "save_stats_to_csv(stats, grouped_stats)\n",
    "\n",
    "def save_basic_plots(df, save_dir='data/processed'):\n",
    "    \"\"\"\n",
    "    Draw and save the basic statistical charts\n",
    "\n",
    "    Parameter\n",
    "        df: DataFrame containing data\n",
    "        save_dir: Output directory path\n",
    "    \"\"\"\n",
    "    # Make sure the directory exists\n",
    "    output_path = Path(save_dir)\n",
    "    output_path.mkdir(parents=True, exist_ok=True)\n",
    "    \n",
    "    plt.figure(figsize=(12, 5))\n",
    "    \n",
    "    # Histogram of Numerical Distribution\n",
    "    df['value'].plot(kind='hist', \n",
    "                    bins=8, \n",
    "                    color='skyblue', \n",
    "                    edgecolor='black',\n",
    "                    alpha=0.7)\n",
    "    plt.title('Value Distribution\\n(All Categories)')\n",
    "    plt.xlabel('Value Range')\n",
    "    plt.ylabel('Frequency')\n",
    "    \n",
    "    # Adjust the layout and save\n",
    "    plt.tight_layout()\n",
    "    plot_path = output_path / 'basic_plots.png'\n",
    "    plt.savefig(plot_path, dpi=300, bbox_inches='tight')\n",
    "    plt.close()\n",
    "    \n",
    "    print(f\"the plot has been saved to: {plot_path}\")\n",
    "    return plot_path\n",
    "\n",
    "# use sample -- -- -- -- -- -- -- - - - - - - - - - - - - - - - - - - - - - - - - - - - - - - - - - - - - - - - - - - -\n",
    "# Suppose there is already a DataFrame (using the data sample provided)\n",
    "data = {\n",
    "    'category': ['A', 'B', 'A', 'B', 'C', 'C', 'A', 'B', 'C', 'A'],\n",
    "    'value': [10, 15, 12, 18, 25, 30, 11, 14, 28, 13],\n",
    "    'date': ['2025/8/1', '2025/8/2', '2025/8/3', '2025/8/4', \n",
    "             '2025/8/5', '2025/8/6', '2025/8/7', '2025/8/8',\n",
    "             '2025/8/9', '2025/8/10']\n",
    "}\n",
    "df = pd.DataFrame(data)\n",
    "\n",
    "# Call the drawing function\n",
    "chart_path = save_basic_plots(df)"
   ]
  }
 ],
 "metadata": {
  "kernelspec": {
   "display_name": "Python 3 (ipykernel)",
   "language": "python",
   "name": "python3"
  },
  "language_info": {
   "codemirror_mode": {
    "name": "ipython",
    "version": 3
   },
   "file_extension": ".py",
   "mimetype": "text/x-python",
   "name": "python",
   "nbconvert_exporter": "python",
   "pygments_lexer": "ipython3",
   "version": "3.12.11"
  }
 },
 "nbformat": 4,
 "nbformat_minor": 5
}
