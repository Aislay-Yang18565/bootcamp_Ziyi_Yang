{
 "cells": [
  {
   "cell_type": "markdown",
   "metadata": {},
   "source": [
    "# Stage 16 Homework Starter\n",
    "\n",
    "This notebook is a starting point for polishing your final repo and lifecycle mapping."
   ]
  },
  {
   "cell_type": "markdown",
   "metadata": {},
   "source": [
    "## Checklist Template\n",
    " - Add checklist elements, as in the examples below, to make sure you cover everything you would like to accomplish\n",
    "- Update this checklist as you finalize your repo."
   ]
  },
  {
   "cell_type": "code",
   "execution_count": null,
   "metadata": {},
   "outputs": [],
   "source": [
    "from pathlib import Path\n",
    "\n",
    "paths = {\n",
    "    \"repo_root\": Path(\"/mnt/data/stage13_project\"),\n",
    "    \"readme\": Path(\"/mnt/data/stage13_project/README.md\"),\n",
    "    \"model\": Path(\"/mnt/data/stage13_project/model/model.pkl\"),\n",
    "    \"framework_guide\": Path(\"/mnt/data/handoff/stage16_framework_guide_filled.md\"),\n",
    "    \"summary_doc\": Path(\"/mnt/data/handoff/stakeholder_summary.md\"),\n",
    "}\n",
    "\n",
    "checklist = {\n",
    "    \"repo_clean\": paths[\"repo_root\"].exists(),\n",
    "    \"repo_complete\": (paths[\"repo_root\"] / \"src\").exists() and (paths[\"repo_root\"] / \"notebooks\").exists() and paths[\"model\"].exists(),\n",
    "    \"readme_complete\": paths[\"readme\"].exists(),\n",
    "    \"lifecycle_map\": paths[\"framework_guide\"].exists(),\n",
    "    \"summary_doc\": paths[\"summary_doc\"].exists(),\n",
    "    \"framework_guide_table\": paths[\"framework_guide\"].exists()\n",
    "}\n",
    "checklist"
   ]
  },
  {
   "cell_type": "markdown",
   "metadata": {},
   "source": [
    "## Reflection Prompts\n",
    "- What stage of the lifecycle was hardest for you, and why?\n",
    "- Which part of your repo is most reusable in a future project?\n",
    "- If a teammate had to pick up your repo tomorrow, what would help them most?"
   ]
  }
 ],
 "metadata": {
  "kernelspec": {
   "display_name": "Python 3",
   "language": "python",
   "name": "python3"
  }
 },
 "nbformat": 4,
 "nbformat_minor": 2
}
