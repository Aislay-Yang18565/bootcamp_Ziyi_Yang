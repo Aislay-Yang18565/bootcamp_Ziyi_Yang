{
 "cells": [
  {
   "cell_type": "markdown",
   "id": "2955e6d1-6e6b-4cc2-b7c7-00b16bd8a274",
   "metadata": {},
   "source": [
    "# Environment Setup"
   ]
  },
  {
   "cell_type": "code",
   "execution_count": 2,
   "id": "85ed0acb-93a2-4309-aaeb-96445da98e16",
   "metadata": {},
   "outputs": [
    {
     "name": "stdout",
     "output_type": "stream",
     "text": [
      "RAW -> C:\\Users\\Aislay\\bootcamp_Ziyi_Yang\\homework\\stage05_data-storage\\data\\raw\n",
      "PROC -> C:\\Users\\Aislay\\bootcamp_Ziyi_Yang\\homework\\stage05_data-storage\\data\\processed\n"
     ]
    }
   ],
   "source": [
    "# Environment Setup\n",
    "import os\n",
    "import pathlib\n",
    "import datetime as dt\n",
    "import pandas as pd\n",
    "import numpy as np\n",
    "from dotenv import load_dotenv\n",
    "\n",
    "# Load environment variables\n",
    "load_dotenv()\n",
    "\n",
    "# Get paths from .env or use defaults\n",
    "RAW = pathlib.Path(os.getenv('DATA_DIR_RAW', 'data/raw'))\n",
    "PROC = pathlib.Path(os.getenv('DATA_DIR_PROCESSED', 'data/processed'))\n",
    "\n",
    "# Create directories if they don't exist\n",
    "RAW.mkdir(parents=True, exist_ok=True)\n",
    "PROC.mkdir(parents=True, exist_ok=True)\n",
    "\n",
    "print('RAW ->', RAW.resolve())\n",
    "print('PROC ->', PROC.resolve())"
   ]
  },
  {
   "cell_type": "markdown",
   "id": "599a8aea-f6fe-4d60-8e58-847be87490c0",
   "metadata": {},
   "source": [
    "# Create Sample Data"
   ]
  },
  {
   "cell_type": "code",
   "execution_count": 3,
   "id": "6f527dc1-a7dc-46d4-9e6e-b5c1eebd4ec0",
   "metadata": {},
   "outputs": [
    {
     "data": {
      "text/html": [
       "<div>\n",
       "<style scoped>\n",
       "    .dataframe tbody tr th:only-of-type {\n",
       "        vertical-align: middle;\n",
       "    }\n",
       "\n",
       "    .dataframe tbody tr th {\n",
       "        vertical-align: top;\n",
       "    }\n",
       "\n",
       "    .dataframe thead th {\n",
       "        text-align: right;\n",
       "    }\n",
       "</style>\n",
       "<table border=\"1\" class=\"dataframe\">\n",
       "  <thead>\n",
       "    <tr style=\"text-align: right;\">\n",
       "      <th></th>\n",
       "      <th>date</th>\n",
       "      <th>ticker</th>\n",
       "      <th>price</th>\n",
       "    </tr>\n",
       "  </thead>\n",
       "  <tbody>\n",
       "    <tr>\n",
       "      <th>0</th>\n",
       "      <td>2025-01-01</td>\n",
       "      <td>AAPL</td>\n",
       "      <td>150.295484</td>\n",
       "    </tr>\n",
       "    <tr>\n",
       "      <th>1</th>\n",
       "      <td>2025-01-02</td>\n",
       "      <td>AAPL</td>\n",
       "      <td>149.596111</td>\n",
       "    </tr>\n",
       "    <tr>\n",
       "      <th>2</th>\n",
       "      <td>2025-01-03</td>\n",
       "      <td>AAPL</td>\n",
       "      <td>148.875938</td>\n",
       "    </tr>\n",
       "    <tr>\n",
       "      <th>3</th>\n",
       "      <td>2025-01-04</td>\n",
       "      <td>AAPL</td>\n",
       "      <td>150.402858</td>\n",
       "    </tr>\n",
       "    <tr>\n",
       "      <th>4</th>\n",
       "      <td>2025-01-05</td>\n",
       "      <td>AAPL</td>\n",
       "      <td>152.245824</td>\n",
       "    </tr>\n",
       "  </tbody>\n",
       "</table>\n",
       "</div>"
      ],
      "text/plain": [
       "        date ticker       price\n",
       "0 2025-01-01   AAPL  150.295484\n",
       "1 2025-01-02   AAPL  149.596111\n",
       "2 2025-01-03   AAPL  148.875938\n",
       "3 2025-01-04   AAPL  150.402858\n",
       "4 2025-01-05   AAPL  152.245824"
      ]
     },
     "execution_count": 3,
     "metadata": {},
     "output_type": "execute_result"
    }
   ],
   "source": [
    "# Create sample stock data\n",
    "dates = pd.date_range('2025-01-01', periods=20, freq='D')\n",
    "df = pd.DataFrame({\n",
    "    'date': dates,\n",
    "    'ticker': ['AAPL']*20,\n",
    "    'price': 150 + np.random.randn(20).cumsum()\n",
    "})\n",
    "\n",
    "df.head()"
   ]
  },
  {
   "cell_type": "markdown",
   "id": "761b3226-3528-486e-bf68-c164f23b8de1",
   "metadata": {},
   "source": [
    "# Save in Both Formats"
   ]
  },
  {
   "cell_type": "code",
   "execution_count": 4,
   "id": "cf73105b-12eb-4899-91d4-1543844e19bd",
   "metadata": {},
   "outputs": [
    {
     "name": "stdout",
     "output_type": "stream",
     "text": [
      "Saved CSV to: data\\raw\\stock_20250822-210448.csv\n",
      "Saved Parquet to: data\\processed\\stock_20250822-210448.parquet\n"
     ]
    }
   ],
   "source": [
    "def get_timestamp():\n",
    "    \"\"\"Generate timestamp for filenames\"\"\"\n",
    "    return dt.datetime.now().strftime('%Y%m%d-%H%M%S')\n",
    "\n",
    "# Save CSV to raw\n",
    "csv_path = RAW / f\"stock_{get_timestamp()}.csv\"\n",
    "df.to_csv(csv_path, index=False)\n",
    "print(f\"Saved CSV to: {csv_path}\")\n",
    "\n",
    "# Save Parquet to processed with engine fallback\n",
    "parquet_path = PROC / f\"stock_{get_timestamp()}.parquet\"\n",
    "try:\n",
    "    # Try pyarrow first\n",
    "    df.to_parquet(parquet_path, engine='pyarrow')\n",
    "    print(f\"Saved Parquet to: {parquet_path}\")\n",
    "except Exception as e:\n",
    "    try:\n",
    "        # Fallback to fastparquet\n",
    "        df.to_parquet(parquet_path, engine='fastparquet')\n",
    "        print(f\"Saved Parquet (fastparquet) to: {parquet_path}\")\n",
    "    except:\n",
    "        print(\"Parquet save failed. Install pyarrow or fastparquet with:\")\n",
    "        print(\"pip install pyarrow\")\n",
    "        parquet_path = None"
   ]
  },
  {
   "cell_type": "markdown",
   "id": "3040a1b6-1ea9-4e0c-a0f5-50a1bd78689c",
   "metadata": {},
   "source": [
    "# Reload and Validate"
   ]
  },
  {
   "cell_type": "code",
   "execution_count": 5,
   "id": "9d5965af-1458-4021-a2b9-69601ec3723e",
   "metadata": {},
   "outputs": [
    {
     "name": "stdout",
     "output_type": "stream",
     "text": [
      "\n",
      "CSV Validation:\n",
      "- Shape matches: True\n",
      "- All columns present: True\n",
      "- Date is datetime: True\n",
      "- Price is numeric: True\n",
      "\n",
      "Parquet Validation:\n",
      "- Shape matches: True\n",
      "- All columns present: True\n",
      "- Date is datetime: True\n",
      "- Price is numeric: True\n"
     ]
    }
   ],
   "source": [
    "def validate_loaded(original_df, loaded_df, source_name):\n",
    "    \"\"\"Validate reloaded data matches original\"\"\"\n",
    "    results = {\n",
    "        'Shape matches': original_df.shape == loaded_df.shape,\n",
    "        'All columns present': set(original_df.columns) == set(loaded_df.columns)\n",
    "    }\n",
    "    \n",
    "    # Only check dtypes if columns match\n",
    "    if results['All columns present']:\n",
    "        results.update({\n",
    "            'Date is datetime': pd.api.types.is_datetime64_any_dtype(loaded_df['date']),\n",
    "            'Price is numeric': pd.api.types.is_numeric_dtype(loaded_df['price'])\n",
    "        })\n",
    "    \n",
    "    print(f\"\\n{source_name} Validation:\")\n",
    "    for check, result in results.items():\n",
    "        print(f\"- {check}: {result}\")\n",
    "    \n",
    "    return results\n",
    "\n",
    "# Validate CSV\n",
    "df_csv = pd.read_csv(csv_path, parse_dates=['date'])\n",
    "csv_validation = validate_loaded(df, df_csv, \"CSV\")\n",
    "\n",
    "# Validate Parquet if saved successfully\n",
    "if parquet_path:\n",
    "    try:\n",
    "        df_parquet = pd.read_parquet(parquet_path)\n",
    "        parquet_validation = validate_loaded(df, df_parquet, \"Parquet\")\n",
    "    except Exception as e:\n",
    "        print(f\"Parquet read failed: {e}\")"
   ]
  },
  {
   "cell_type": "markdown",
   "id": "09ff374f-5bc3-4d52-91ab-33f0c99f74f9",
   "metadata": {},
   "source": [
    "# Storage Utilities"
   ]
  },
  {
   "cell_type": "code",
   "execution_count": 6,
   "id": "d798d35a-cf70-447d-b6e9-0752e6b5effa",
   "metadata": {},
   "outputs": [
    {
     "name": "stdout",
     "output_type": "stream",
     "text": [
      "Saved via utility: data\\raw\\stock_util_20250822-210450.csv\n",
      "Saved via utility: data\\processed\\stock_util_20250822-210450.parquet\n",
      "\n",
      "Utility Validation:\n",
      "- Shape matches: True\n",
      "- All columns present: True\n",
      "- Date is datetime: True\n",
      "- Price is numeric: True\n"
     ]
    },
    {
     "data": {
      "text/plain": [
       "{'Shape matches': True,\n",
       " 'All columns present': True,\n",
       " 'Date is datetime': True,\n",
       " 'Price is numeric': True}"
      ]
     },
     "execution_count": 6,
     "metadata": {},
     "output_type": "execute_result"
    }
   ],
   "source": [
    "def detect_file_format(filepath):\n",
    "    \"\"\"Detect file format from extension\"\"\"\n",
    "    filepath = str(filepath).lower()\n",
    "    if filepath.endswith('.csv'):\n",
    "        return 'csv'\n",
    "    elif any(filepath.endswith(ext) for ext in ['.parquet', '.pq']):\n",
    "        return 'parquet'\n",
    "    raise ValueError(f\"Unsupported file format: {filepath}\")\n",
    "\n",
    "def write_df(df, filepath):\n",
    "    \"\"\"Save DataFrame based on file extension\"\"\"\n",
    "    filepath = pathlib.Path(filepath)\n",
    "    filepath.parent.mkdir(parents=True, exist_ok=True)\n",
    "    \n",
    "    try:\n",
    "        fmt = detect_file_format(filepath)\n",
    "        if fmt == 'csv':\n",
    "            df.to_csv(filepath, index=False)\n",
    "        else:\n",
    "            # Try pyarrow first, then fastparquet\n",
    "            try:\n",
    "                df.to_parquet(filepath, engine='pyarrow')\n",
    "            except:\n",
    "                df.to_parquet(filepath, engine='fastparquet')\n",
    "        print(f\"Saved via utility: {filepath}\")\n",
    "        return filepath\n",
    "    except Exception as e:\n",
    "        raise RuntimeError(f\"Failed to save {filepath}: {str(e)}\")\n",
    "\n",
    "def read_df(filepath):\n",
    "    \"\"\"Load DataFrame based on file extension\"\"\"\n",
    "    filepath = pathlib.Path(filepath)\n",
    "    \n",
    "    try:\n",
    "        fmt = detect_file_format(filepath)\n",
    "        if fmt == 'csv':\n",
    "            # Auto-detect date columns\n",
    "            date_cols = [col for col in pd.read_csv(filepath, nrows=1).columns \n",
    "                        if 'date' in col.lower()]\n",
    "            return pd.read_csv(filepath, parse_dates=date_cols) if date_cols else pd.read_csv(filepath)\n",
    "        else:\n",
    "            # Try pyarrow first, then fastparquet\n",
    "            try:\n",
    "                return pd.read_parquet(filepath, engine='pyarrow')\n",
    "            except:\n",
    "                return pd.read_parquet(filepath, engine='fastparquet')\n",
    "    except Exception as e:\n",
    "        raise RuntimeError(f\"Failed to read {filepath}: {str(e)}\")\n",
    "\n",
    "# Demo utility functions\n",
    "util_csv = write_df(df, RAW / f\"stock_util_{get_timestamp()}.csv\")\n",
    "util_parquet = write_df(df, PROC / f\"stock_util_{get_timestamp()}.parquet\")\n",
    "\n",
    "# Validate utility-loaded data\n",
    "df_util = read_df(util_csv)\n",
    "validate_loaded(df, df_util, \"Utility\")"
   ]
  }
 ],
 "metadata": {
  "kernelspec": {
   "display_name": "Python 3 (ipykernel)",
   "language": "python",
   "name": "python3"
  },
  "language_info": {
   "codemirror_mode": {
    "name": "ipython",
    "version": 3
   },
   "file_extension": ".py",
   "mimetype": "text/x-python",
   "name": "python",
   "nbconvert_exporter": "python",
   "pygments_lexer": "ipython3",
   "version": "3.12.11"
  }
 },
 "nbformat": 4,
 "nbformat_minor": 5
}
