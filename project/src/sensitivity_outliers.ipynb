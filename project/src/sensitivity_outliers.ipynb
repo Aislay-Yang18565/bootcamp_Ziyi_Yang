{
 "cells": [
  {
   "cell_type": "code",
   "execution_count": 5,
   "id": "a09cb533-4fc9-4740-a801-d48ce59b0a10",
   "metadata": {},
   "outputs": [],
   "source": [
    "def detect_outliers_iqr(series: pd.Series, k: float = 1.5) -> pd.Series:\n",
    "    \"\"\"Return boolean mask where True indicates an outlier by IQR rule.\n",
    "    Parameters\n",
    "    ----------\n",
    "    series : pd.Series\n",
    "        Numeric series to evaluate.\n",
    "    k : float\n",
    "        Multiplier for IQR to set fences (default 1.5).\n",
    "    \"\"\"\n",
    "    q1 = series.quantile(0.25)\n",
    "    q3 = series.quantile(0.75)\n",
    "    iqr = q3 - q1\n",
    "    lower = q1 - k * iqr\n",
    "    upper = q3 + k * iqr\n",
    "    return (series < lower) | (series > upper)"
   ]
  }
 ],
 "metadata": {
  "kernelspec": {
   "display_name": "Python 3 (ipykernel)",
   "language": "python",
   "name": "python3"
  },
  "language_info": {
   "codemirror_mode": {
    "name": "ipython",
    "version": 3
   },
   "file_extension": ".py",
   "mimetype": "text/x-python",
   "name": "python",
   "nbconvert_exporter": "python",
   "pygments_lexer": "ipython3",
   "version": "3.12.11"
  }
 },
 "nbformat": 4,
 "nbformat_minor": 5
}
